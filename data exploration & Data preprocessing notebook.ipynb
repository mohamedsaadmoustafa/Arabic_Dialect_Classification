{
 "cells": [
  {
   "cell_type": "markdown",
   "id": "73062475",
   "metadata": {
    "papermill": {
     "duration": 0.067152,
     "end_time": "2022-03-13T17:35:57.328649",
     "exception": false,
     "start_time": "2022-03-13T17:35:57.261497",
     "status": "completed"
    },
    "tags": []
   },
   "source": [
    "Let's start with importing necessary libraries"
   ]
  },
  {
   "cell_type": "code",
   "execution_count": 1,
   "id": "ceeca36a",
   "metadata": {
    "execution": {
     "iopub.execute_input": "2022-03-13T17:35:57.456804Z",
     "iopub.status.busy": "2022-03-13T17:35:57.454984Z",
     "iopub.status.idle": "2022-03-13T17:36:17.101238Z",
     "shell.execute_reply": "2022-03-13T17:36:17.100271Z",
     "shell.execute_reply.started": "2022-03-13T17:25:35.593518Z"
    },
    "papermill": {
     "duration": 19.710461,
     "end_time": "2022-03-13T17:36:17.101466",
     "exception": false,
     "start_time": "2022-03-13T17:35:57.391005",
     "status": "completed"
    },
    "tags": []
   },
   "outputs": [
    {
     "name": "stdout",
     "output_type": "stream",
     "text": [
      "Collecting arabic_reshaper\r\n",
      "  Downloading arabic_reshaper-2.1.3-py3-none-any.whl (20 kB)\r\n",
      "Requirement already satisfied: future in /opt/conda/lib/python3.7/site-packages (from arabic_reshaper) (0.18.2)\r\n",
      "Requirement already satisfied: setuptools in /opt/conda/lib/python3.7/site-packages (from arabic_reshaper) (59.5.0)\r\n",
      "Installing collected packages: arabic-reshaper\r\n",
      "Successfully installed arabic-reshaper-2.1.3\r\n",
      "\u001b[33mWARNING: Running pip as the 'root' user can result in broken permissions and conflicting behaviour with the system package manager. It is recommended to use a virtual environment instead: https://pip.pypa.io/warnings/venv\u001b[0m\r\n",
      "Requirement already satisfied: python-bidi in /opt/conda/lib/python3.7/site-packages (0.4.2)\r\n",
      "Requirement already satisfied: six in /opt/conda/lib/python3.7/site-packages (from python-bidi) (1.16.0)\r\n",
      "\u001b[33mWARNING: Running pip as the 'root' user can result in broken permissions and conflicting behaviour with the system package manager. It is recommended to use a virtual environment instead: https://pip.pypa.io/warnings/venv\u001b[0m\r\n"
     ]
    }
   ],
   "source": [
    "### Problem Solution to show arabic letters from right to left\n",
    "! pip install arabic_reshaper\n",
    "! pip install python-bidi"
   ]
  },
  {
   "cell_type": "code",
   "execution_count": 2,
   "id": "cabf88a8",
   "metadata": {
    "_cell_guid": "b1076dfc-b9ad-4769-8c92-a6c4dae69d19",
    "_uuid": "8f2839f25d086af736a60e9eeb907d3b93b6e0e5",
    "execution": {
     "iopub.execute_input": "2022-03-13T17:36:17.243098Z",
     "iopub.status.busy": "2022-03-13T17:36:17.242111Z",
     "iopub.status.idle": "2022-03-13T17:36:23.021613Z",
     "shell.execute_reply": "2022-03-13T17:36:23.022118Z",
     "shell.execute_reply.started": "2022-03-13T17:25:55.320399Z"
    },
    "papermill": {
     "duration": 5.851701,
     "end_time": "2022-03-13T17:36:23.022319",
     "exception": false,
     "start_time": "2022-03-13T17:36:17.170618",
     "status": "completed"
    },
    "tags": []
   },
   "outputs": [],
   "source": [
    "import numpy as np # linear algebra\n",
    "import pandas as pd # data processing, CSV file I/O (e.g. pd.read_csv)\n",
    "import requests\n",
    "import json\n",
    "import tensorflow as tf\n",
    "import unicodedata\n",
    "import re\n",
    "import os\n",
    "\n",
    "# visualization packages\n",
    "import matplotlib.pyplot as plt\n",
    "import seaborn as sns\n",
    "\n",
    "#sns.color_palette(\"rocket_r\", as_cmap=True)\n",
    "cmap = sns.diverging_palette(0, 230, 90, 60, as_cmap=True)\n",
    "plt.rcParams.update({'font.size': 22})\n",
    "np.random.seed(42)\n",
    "# ignore warnings\n",
    "import warnings\n",
    "warnings.filterwarnings(\"ignore\")"
   ]
  },
  {
   "cell_type": "markdown",
   "id": "f59ce756",
   "metadata": {
    "papermill": {
     "duration": 0.062096,
     "end_time": "2022-03-13T17:36:23.146641",
     "exception": false,
     "start_time": "2022-03-13T17:36:23.084545",
     "status": "completed"
    },
    "tags": []
   },
   "source": [
    "> Show available files"
   ]
  },
  {
   "cell_type": "code",
   "execution_count": 3,
   "id": "15853b30",
   "metadata": {
    "execution": {
     "iopub.execute_input": "2022-03-13T17:36:23.276201Z",
     "iopub.status.busy": "2022-03-13T17:36:23.275547Z",
     "iopub.status.idle": "2022-03-13T17:36:23.285814Z",
     "shell.execute_reply": "2022-03-13T17:36:23.286314Z",
     "shell.execute_reply.started": "2022-03-13T17:26:01.625295Z"
    },
    "papermill": {
     "duration": 0.076294,
     "end_time": "2022-03-13T17:36:23.286498",
     "exception": false,
     "start_time": "2022-03-13T17:36:23.210204",
     "status": "completed"
    },
    "tags": []
   },
   "outputs": [
    {
     "name": "stdout",
     "output_type": "stream",
     "text": [
      "/kaggle/input/alldialectdataset/out.csv\n"
     ]
    }
   ],
   "source": [
    "# Input data files are available in the read-only \"../input/\" directory\n",
    "# For example, running this (by clicking run or pressing Shift+Enter) will list all files under the input directory\n",
    "\n",
    "import os\n",
    "for dirname, _, filenames in os.walk('/kaggle/input'):\n",
    "    for filename in filenames:\n",
    "        print(os.path.join(dirname, filename))"
   ]
  },
  {
   "cell_type": "markdown",
   "id": "01396d96",
   "metadata": {
    "papermill": {
     "duration": 0.062307,
     "end_time": "2022-03-13T17:36:23.411476",
     "exception": false,
     "start_time": "2022-03-13T17:36:23.349169",
     "status": "completed"
    },
    "tags": []
   },
   "source": [
    "Using `arabic_reshaper` library to reconstruct Arabic sentences to be used in applications that don't support Arabic script."
   ]
  },
  {
   "cell_type": "code",
   "execution_count": 4,
   "id": "22349e48",
   "metadata": {
    "execution": {
     "iopub.execute_input": "2022-03-13T17:36:23.542574Z",
     "iopub.status.busy": "2022-03-13T17:36:23.541903Z",
     "iopub.status.idle": "2022-03-13T17:36:23.803364Z",
     "shell.execute_reply": "2022-03-13T17:36:23.804014Z",
     "shell.execute_reply.started": "2022-03-13T17:26:01.643169Z"
    },
    "papermill": {
     "duration": 0.328287,
     "end_time": "2022-03-13T17:36:23.804200",
     "exception": false,
     "start_time": "2022-03-13T17:36:23.475913",
     "status": "completed"
    },
    "tags": []
   },
   "outputs": [
    {
     "data": {
      "text/plain": [
       "Text(0.25, 0.45, 'ﺔﻴﺑﺮﻋ ﺔﻐﻟ')"
      ]
     },
     "execution_count": 4,
     "metadata": {},
     "output_type": "execute_result"
    },
    {
     "data": {
      "image/png": "[encoded data removed]",
      "text/plain": [
       "<Figure size 432x288 with 1 Axes>"
      ]
     },
     "metadata": {
      "needs_background": "light"
     },
     "output_type": "display_data"
    }
   ],
   "source": [
    "import arabic_reshaper\n",
    "from bidi.algorithm import get_display\n",
    "\n",
    "reshaped_text = arabic_reshaper.reshape(u'لغةٌ عربيّة')\n",
    "artext = get_display(reshaped_text)\n",
    "\n",
    "plt.text(0.25, 0.45, artext , name = 'Times New Roman',fontsize=25)"
   ]
  },
  {
   "cell_type": "markdown",
   "id": "635355d8",
   "metadata": {
    "papermill": {
     "duration": 0.064488,
     "end_time": "2022-03-13T17:36:23.933253",
     "exception": false,
     "start_time": "2022-03-13T17:36:23.868765",
     "status": "completed"
    },
    "tags": []
   },
   "source": [
    "Reading dataset, drop id column that used to btain data texts from [API](https://recruitment.aimtechnologies.co/ai-tasks) then rename columns for our text to tweets. "
   ]
  },
  {
   "cell_type": "code",
   "execution_count": 5,
   "id": "61269835",
   "metadata": {
    "execution": {
     "iopub.execute_input": "2022-03-13T17:36:24.072194Z",
     "iopub.status.busy": "2022-03-13T17:36:24.071505Z",
     "iopub.status.idle": "2022-03-13T17:36:27.146856Z",
     "shell.execute_reply": "2022-03-13T17:36:27.146260Z",
     "shell.execute_reply.started": "2022-03-13T17:26:01.937013Z"
    },
    "papermill": {
     "duration": 3.14641,
     "end_time": "2022-03-13T17:36:27.147003",
     "exception": false,
     "start_time": "2022-03-13T17:36:24.000593",
     "status": "completed"
    },
    "tags": []
   },
   "outputs": [
    {
     "data": {
      "text/html": [
       "<div>\n",
       "<style scoped>\n",
       "    .dataframe tbody tr th:only-of-type {\n",
       "        vertical-align: middle;\n",
       "    }\n",
       "\n",
       "    .dataframe tbody tr th {\n",
       "        vertical-align: top;\n",
       "    }\n",
       "\n",
       "    .dataframe thead th {\n",
       "        text-align: right;\n",
       "    }\n",
       "</style>\n",
       "<table border=\"1\" class=\"dataframe\">\n",
       "  <thead>\n",
       "    <tr style=\"text-align: right;\">\n",
       "      <th></th>\n",
       "      <th>dialect</th>\n",
       "      <th>tweets</th>\n",
       "    </tr>\n",
       "  </thead>\n",
       "  <tbody>\n",
       "    <tr>\n",
       "      <th>458192</th>\n",
       "      <td>AE</td>\n",
       "      <td>@ArefHareb @AbdullaBnS ههههههه انا عسب جي منشن...</td>\n",
       "    </tr>\n",
       "    <tr>\n",
       "      <th>458193</th>\n",
       "      <td>OM</td>\n",
       "      <td>@OMAN_NT ماشي احساس بالمسؤليه،مثلا هذيلا لازم ...</td>\n",
       "    </tr>\n",
       "    <tr>\n",
       "      <th>458194</th>\n",
       "      <td>BH</td>\n",
       "      <td>@waseem_yousef و انا بعد اعترف انك غيرتني الله...</td>\n",
       "    </tr>\n",
       "    <tr>\n",
       "      <th>458195</th>\n",
       "      <td>EG</td>\n",
       "      <td>الأسرة الفقيرة اللي كانت بتدعم السيسي عشان \"مس...</td>\n",
       "    </tr>\n",
       "    <tr>\n",
       "      <th>458196</th>\n",
       "      <td>LY</td>\n",
       "      <td>من كثر ما تغيرت عليا يا صوتي مش عارفك لمين ، ه...</td>\n",
       "    </tr>\n",
       "  </tbody>\n",
       "</table>\n",
       "</div>"
      ],
      "text/plain": [
       "       dialect                                             tweets\n",
       "458192      AE  @ArefHareb @AbdullaBnS ههههههه انا عسب جي منشن...\n",
       "458193      OM  @OMAN_NT ماشي احساس بالمسؤليه،مثلا هذيلا لازم ...\n",
       "458194      BH  @waseem_yousef و انا بعد اعترف انك غيرتني الله...\n",
       "458195      EG  الأسرة الفقيرة اللي كانت بتدعم السيسي عشان \"مس...\n",
       "458196      LY  من كثر ما تغيرت عليا يا صوتي مش عارفك لمين ، ه..."
      ]
     },
     "execution_count": 5,
     "metadata": {},
     "output_type": "execute_result"
    }
   ],
   "source": [
    "df = pd.read_csv(\"../input/alldialectdataset/out.csv\", encoding=\"utf-8\", lineterminator='\\n')\n",
    "df.drop(columns=[\"id\"], inplace=True)\n",
    "df.columns = ['dialect', 'tweets']\n",
    "df.tail()"
   ]
  },
  {
   "cell_type": "code",
   "execution_count": 6,
   "id": "dee70128",
   "metadata": {
    "execution": {
     "iopub.execute_input": "2022-03-13T17:36:27.395408Z",
     "iopub.status.busy": "2022-03-13T17:36:27.346488Z",
     "iopub.status.idle": "2022-03-13T17:36:28.042307Z",
     "shell.execute_reply": "2022-03-13T17:36:28.041768Z",
     "shell.execute_reply.started": "2022-03-13T17:26:05.290940Z"
    },
    "papermill": {
     "duration": 0.828893,
     "end_time": "2022-03-13T17:36:28.042486",
     "exception": false,
     "start_time": "2022-03-13T17:36:27.213593",
     "status": "completed"
    },
    "tags": []
   },
   "outputs": [
    {
     "data": {
      "text/html": [
       "<div>\n",
       "<style scoped>\n",
       "    .dataframe tbody tr th:only-of-type {\n",
       "        vertical-align: middle;\n",
       "    }\n",
       "\n",
       "    .dataframe tbody tr th {\n",
       "        vertical-align: top;\n",
       "    }\n",
       "\n",
       "    .dataframe thead th {\n",
       "        text-align: right;\n",
       "    }\n",
       "</style>\n",
       "<table border=\"1\" class=\"dataframe\">\n",
       "  <thead>\n",
       "    <tr style=\"text-align: right;\">\n",
       "      <th></th>\n",
       "      <th>count</th>\n",
       "      <th>unique</th>\n",
       "      <th>top</th>\n",
       "      <th>freq</th>\n",
       "    </tr>\n",
       "  </thead>\n",
       "  <tbody>\n",
       "    <tr>\n",
       "      <th>dialect</th>\n",
       "      <td>458197</td>\n",
       "      <td>18</td>\n",
       "      <td>EG</td>\n",
       "      <td>57636</td>\n",
       "    </tr>\n",
       "    <tr>\n",
       "      <th>tweets</th>\n",
       "      <td>457197</td>\n",
       "      <td>457197</td>\n",
       "      <td>يعني من الساعة 1 وانا بحاول انام ولهلا كل المح...</td>\n",
       "      <td>1</td>\n",
       "    </tr>\n",
       "  </tbody>\n",
       "</table>\n",
       "</div>"
      ],
      "text/plain": [
       "          count  unique                                                top  \\\n",
       "dialect  458197      18                                                 EG   \n",
       "tweets   457197  457197  يعني من الساعة 1 وانا بحاول انام ولهلا كل المح...   \n",
       "\n",
       "          freq  \n",
       "dialect  57636  \n",
       "tweets       1  "
      ]
     },
     "execution_count": 6,
     "metadata": {},
     "output_type": "execute_result"
    }
   ],
   "source": [
    "df.describe().T"
   ]
  },
  {
   "cell_type": "markdown",
   "id": "2a486f8b",
   "metadata": {
    "papermill": {
     "duration": 0.066334,
     "end_time": "2022-03-13T17:36:28.174605",
     "exception": false,
     "start_time": "2022-03-13T17:36:28.108271",
     "status": "completed"
    },
    "tags": []
   },
   "source": [
    "`dialect` column has 18 unique class and 'tweets' column has some null values to drop and zero dublicated tweets."
   ]
  },
  {
   "cell_type": "code",
   "execution_count": 7,
   "id": "f1bdbe00",
   "metadata": {
    "execution": {
     "iopub.execute_input": "2022-03-13T17:36:28.308193Z",
     "iopub.status.busy": "2022-03-13T17:36:28.307252Z",
     "iopub.status.idle": "2022-03-13T17:36:28.444576Z",
     "shell.execute_reply": "2022-03-13T17:36:28.445060Z",
     "shell.execute_reply.started": "2022-03-13T17:26:06.075076Z"
    },
    "papermill": {
     "duration": 0.205934,
     "end_time": "2022-03-13T17:36:28.445263",
     "exception": false,
     "start_time": "2022-03-13T17:36:28.239329",
     "status": "completed"
    },
    "tags": []
   },
   "outputs": [],
   "source": [
    "df.dropna(inplace=True)"
   ]
  },
  {
   "cell_type": "markdown",
   "id": "6c016d89",
   "metadata": {
    "papermill": {
     "duration": 0.064891,
     "end_time": "2022-03-13T17:36:28.575129",
     "exception": false,
     "start_time": "2022-03-13T17:36:28.510238",
     "status": "completed"
    },
    "tags": []
   },
   "source": [
    "Let's translate` dialect` column in arabic to an `arabic_dialects` column for some visualization plots."
   ]
  },
  {
   "cell_type": "code",
   "execution_count": 8,
   "id": "193cc410",
   "metadata": {
    "execution": {
     "iopub.execute_input": "2022-03-13T17:36:28.771095Z",
     "iopub.status.busy": "2022-03-13T17:36:28.769943Z",
     "iopub.status.idle": "2022-03-13T17:36:28.778838Z",
     "shell.execute_reply": "2022-03-13T17:36:28.778281Z",
     "shell.execute_reply.started": "2022-03-13T17:26:06.219305Z"
    },
    "papermill": {
     "duration": 0.139118,
     "end_time": "2022-03-13T17:36:28.778992",
     "exception": false,
     "start_time": "2022-03-13T17:36:28.639874",
     "status": "completed"
    },
    "tags": []
   },
   "outputs": [],
   "source": [
    "arabic_dialects = {\n",
    "    'AE': 'لهجة اماراتية',\n",
    "    'BH': 'لهجة بحرينية',\n",
    "    'DZ': 'لهجة جزائرية',\n",
    "    'EG': 'لهجة مصرية',\n",
    "    'IQ': 'لهجة عراقية',\n",
    "    'JO': 'لهجة أردنية',\n",
    "    'KW': 'لهجة كويتية',\n",
    "    'LB': 'لهجة لبنانية',\n",
    "    'LY': 'لهجة ليبية',\n",
    "    'MA': 'لهجة مغربية',\n",
    "    'OM': 'لهجة عمانية',\n",
    "    'PL': 'لهجة فلسطينية',\n",
    "    'QA': 'لهجة قطرية',\n",
    "    'SA': 'لهجة سعودية',\n",
    "    'SD': 'لهجة سودانية',\n",
    "    'SY': 'لهجة سورية',\n",
    "    'TN': 'لهجة تونسية',\n",
    "    'YE': 'لهجة يمنية'\n",
    "}\n",
    "df['dialect_in_arabic'] = df.dialect.map(arabic_dialects)"
   ]
  },
  {
   "cell_type": "markdown",
   "id": "174d9b26",
   "metadata": {
    "papermill": {
     "duration": 0.06463,
     "end_time": "2022-03-13T17:36:28.908784",
     "exception": false,
     "start_time": "2022-03-13T17:36:28.844154",
     "status": "completed"
    },
    "tags": []
   },
   "source": [
    "Here we create a pie plot to show the percentage of each dialect. This plot shows that the largest percentage for egyptian dialects with 12.6% and the smallest is tunisian dialect with 2.02%."
   ]
  },
  {
   "cell_type": "code",
   "execution_count": 9,
   "id": "e27a47f7",
   "metadata": {
    "execution": {
     "iopub.execute_input": "2022-03-13T17:36:29.044154Z",
     "iopub.status.busy": "2022-03-13T17:36:29.043171Z",
     "iopub.status.idle": "2022-03-13T17:36:32.216089Z",
     "shell.execute_reply": "2022-03-13T17:36:32.216688Z",
     "shell.execute_reply.started": "2022-03-13T17:26:06.290324Z"
    },
    "papermill": {
     "duration": 3.241941,
     "end_time": "2022-03-13T17:36:32.216878",
     "exception": false,
     "start_time": "2022-03-13T17:36:28.974937",
     "status": "completed"
    },
    "tags": []
   },
   "outputs": [
    {
     "data": {
      "text/html": [
       "        <script type=\"text/javascript\">\n",
       "        window.PlotlyConfig = {MathJaxConfig: 'local'};\n",
       "        if (window.MathJax) {MathJax.Hub.Config({SVG: {font: \"STIX-Web\"}});}\n",
       "        if (typeof require !== 'undefined') {\n",
       "        require.undef(\"plotly\");\n",
       "        requirejs.config({\n",
       "            paths: {\n",
       "                'plotly': ['https://cdn.plot.ly/plotly-2.9.0.min']\n",
       "            }\n",
       "        });\n",
       "        require(['plotly'], function(Plotly) {\n",
       "            window._Plotly = Plotly;\n",
       "        });\n",
       "        }\n",
       "        </script>\n",
       "        "
      ]
     },
     "metadata": {},
     "output_type": "display_data"
    },
    {
     "data": {
      "text/html": [
       "<div>                            <div id=\"894c7cba-049f-43ab-ae68-b5abab40d1a8\" class=\"plotly-graph-div\" style=\"height:525px; width:100%;\"></div>            <script type=\"text/javascript\">                require([\"plotly\"], function(Plotly) {                    window.PLOTLYENV=window.PLOTLYENV || {};                                    if (document.getElementById(\"894c7cba-049f-43ab-ae68-b5abab40d1a8\")) {                    Plotly.newPlot(                        \"894c7cba-049f-43ab-ae68-b5abab40d1a8\",                        [{\"labels\":[\"لهجة مصرية\",\"لهجة فلسطينية\",\"لهجة كويتية\",\"لهجة ليبية\",\"لهجة قطرية\",\"لهجة أردنية\",\"لهجة لبنانية\",\"لهجة سعودية\",\"لهجة اماراتية\",\"لهجة بحرينية\",\"لهجة عمانية\",\"لهجة سورية\",\"لهجة جزائرية\",\"لهجة عراقية\",\"لهجة سودانية\",\"لهجة مغربية\",\"لهجة يمنية\",\"لهجة تونسية\"],\"values\":[57489,43626,42051,36400,30995,27880,27576,26786,26255,26252,19079,16209,16125,15442,14366,11523,9914,9229],\"type\":\"pie\",\"marker\":{\"colors\":[[\"#00CC96\",\"#AB63FA\",\"#FFA15A\",\"#19D3F3\",\"#FF6692\",\"#B6E880\",\"#FF97FF\",\"#FECB52\"]]},\"textfont\":{\"color\":\"black\"},\"textposition\":\"inside\"}],                        {\"template\":{\"data\":{\"barpolar\":[{\"marker\":{\"line\":{\"color\":\"white\",\"width\":0.5},\"pattern\":{\"fillmode\":\"overlay\",\"size\":10,\"solidity\":0.2}},\"type\":\"barpolar\"}],\"bar\":[{\"error_x\":{\"color\":\"#2a3f5f\"},\"error_y\":{\"color\":\"#2a3f5f\"},\"marker\":{\"line\":{\"color\":\"white\",\"width\":0.5},\"pattern\":{\"fillmode\":\"overlay\",\"size\":10,\"solidity\":0.2}},\"type\":\"bar\"}],\"carpet\":[{\"aaxis\":{\"endlinecolor\":\"#2a3f5f\",\"gridcolor\":\"#C8D4E3\",\"linecolor\":\"#C8D4E3\",\"minorgridcolor\":\"#C8D4E3\",\"startlinecolor\":\"#2a3f5f\"},\"baxis\":{\"endlinecolor\":\"#2a3f5f\",\"gridcolor\":\"#C8D4E3\",\"linecolor\":\"#C8D4E3\",\"minorgridcolor\":\"#C8D4E3\",\"startlinecolor\":\"#2a3f5f\"},\"type\":\"carpet\"}],\"choropleth\":[{\"colorbar\":{\"outlinewidth\":0,\"ticks\":\"\"},\"type\":\"choropleth\"}],\"contourcarpet\":[{\"colorbar\":{\"outlinewidth\":0,\"ticks\":\"\"},\"type\":\"contourcarpet\"}],\"contour\":[{\"colorbar\":{\"outlinewidth\":0,\"ticks\":\"\"},\"colorscale\":[[0.0,\"#0d0887\"],[0.1111111111111111,\"#46039f\"],[0.2222222222222222,\"#7201a8\"],[0.3333333333333333,\"#9c179e\"],[0.4444444444444444,\"#bd3786\"],[0.5555555555555556,\"#d8576b\"],[0.6666666666666666,\"#ed7953\"],[0.7777777777777778,\"#fb9f3a\"],[0.8888888888888888,\"#fdca26\"],[1.0,\"#f0f921\"]],\"type\":\"contour\"}],\"heatmapgl\":[{\"colorbar\":{\"outlinewidth\":0,\"ticks\":\"\"},\"colorscale\":[[0.0,\"#0d0887\"],[0.1111111111111111,\"#46039f\"],[0.2222222222222222,\"#7201a8\"],[0.3333333333333333,\"#9c179e\"],[0.4444444444444444,\"#bd3786\"],[0.5555555555555556,\"#d8576b\"],[0.6666666666666666,\"#ed7953\"],[0.7777777777777778,\"#fb9f3a\"],[0.8888888888888888,\"#fdca26\"],[1.0,\"#f0f921\"]],\"type\":\"heatmapgl\"}],\"heatmap\":[{\"colorbar\":{\"outlinewidth\":0,\"ticks\":\"\"},\"colorscale\":[[0.0,\"#0d0887\"],[0.1111111111111111,\"#46039f\"],[0.2222222222222222,\"#7201a8\"],[0.3333333333333333,\"#9c179e\"],[0.4444444444444444,\"#bd3786\"],[0.5555555555555556,\"#d8576b\"],[0.6666666666666666,\"#ed7953\"],[0.7777777777777778,\"#fb9f3a\"],[0.8888888888888888,\"#fdca26\"],[1.0,\"#f0f921\"]],\"type\":\"heatmap\"}],\"histogram2dcontour\":[{\"colorbar\":{\"outlinewidth\":0,\"ticks\":\"\"},\"colorscale\":[[0.0,\"#0d0887\"],[0.1111111111111111,\"#46039f\"],[0.2222222222222222,\"#7201a8\"],[0.3333333333333333,\"#9c179e\"],[0.4444444444444444,\"#bd3786\"],[0.5555555555555556,\"#d8576b\"],[0.6666666666666666,\"#ed7953\"],[0.7777777777777778,\"#fb9f3a\"],[0.8888888888888888,\"#fdca26\"],[1.0,\"#f0f921\"]],\"type\":\"histogram2dcontour\"}],\"histogram2d\":[{\"colorbar\":{\"outlinewidth\":0,\"ticks\":\"\"},\"colorscale\":[[0.0,\"#0d0887\"],[0.1111111111111111,\"#46039f\"],[0.2222222222222222,\"#7201a8\"],[0.3333333333333333,\"#9c179e\"],[0.4444444444444444,\"#bd3786\"],[0.5555555555555556,\"#d8576b\"],[0.6666666666666666,\"#ed7953\"],[0.7777777777777778,\"#fb9f3a\"],[0.8888888888888888,\"#fdca26\"],[1.0,\"#f0f921\"]],\"type\":\"histogram2d\"}],\"histogram\":[{\"marker\":{\"pattern\":{\"fillmode\":\"overlay\",\"size\":10,\"solidity\":0.2}},\"type\":\"histogram\"}],\"mesh3d\":[{\"colorbar\":{\"outlinewidth\":0,\"ticks\":\"\"},\"type\":\"mesh3d\"}],\"parcoords\":[{\"line\":{\"colorbar\":{\"outlinewidth\":0,\"ticks\":\"\"}},\"type\":\"parcoords\"}],\"pie\":[{\"automargin\":true,\"type\":\"pie\"}],\"scatter3d\":[{\"line\":{\"colorbar\":{\"outlinewidth\":0,\"ticks\":\"\"}},\"marker\":{\"colorbar\":{\"outlinewidth\":0,\"ticks\":\"\"}},\"type\":\"scatter3d\"}],\"scattercarpet\":[{\"marker\":{\"colorbar\":{\"outlinewidth\":0,\"ticks\":\"\"}},\"type\":\"scattercarpet\"}],\"scattergeo\":[{\"marker\":{\"colorbar\":{\"outlinewidth\":0,\"ticks\":\"\"}},\"type\":\"scattergeo\"}],\"scattergl\":[{\"marker\":{\"colorbar\":{\"outlinewidth\":0,\"ticks\":\"\"}},\"type\":\"scattergl\"}],\"scattermapbox\":[{\"marker\":{\"colorbar\":{\"outlinewidth\":0,\"ticks\":\"\"}},\"type\":\"scattermapbox\"}],\"scatterpolargl\":[{\"marker\":{\"colorbar\":{\"outlinewidth\":0,\"ticks\":\"\"}},\"type\":\"scatterpolargl\"}],\"scatterpolar\":[{\"marker\":{\"colorbar\":{\"outlinewidth\":0,\"ticks\":\"\"}},\"type\":\"scatterpolar\"}],\"scatter\":[{\"marker\":{\"colorbar\":{\"outlinewidth\":0,\"ticks\":\"\"}},\"type\":\"scatter\"}],\"scatterternary\":[{\"marker\":{\"colorbar\":{\"outlinewidth\":0,\"ticks\":\"\"}},\"type\":\"scatterternary\"}],\"surface\":[{\"colorbar\":{\"outlinewidth\":0,\"ticks\":\"\"},\"colorscale\":[[0.0,\"#0d0887\"],[0.1111111111111111,\"#46039f\"],[0.2222222222222222,\"#7201a8\"],[0.3333333333333333,\"#9c179e\"],[0.4444444444444444,\"#bd3786\"],[0.5555555555555556,\"#d8576b\"],[0.6666666666666666,\"#ed7953\"],[0.7777777777777778,\"#fb9f3a\"],[0.8888888888888888,\"#fdca26\"],[1.0,\"#f0f921\"]],\"type\":\"surface\"}],\"table\":[{\"cells\":{\"fill\":{\"color\":\"#EBF0F8\"},\"line\":{\"color\":\"white\"}},\"header\":{\"fill\":{\"color\":\"#C8D4E3\"},\"line\":{\"color\":\"white\"}},\"type\":\"table\"}]},\"layout\":{\"annotationdefaults\":{\"arrowcolor\":\"#2a3f5f\",\"arrowhead\":0,\"arrowwidth\":1},\"autotypenumbers\":\"strict\",\"coloraxis\":{\"colorbar\":{\"outlinewidth\":0,\"ticks\":\"\"}},\"colorscale\":{\"diverging\":[[0,\"#8e0152\"],[0.1,\"#c51b7d\"],[0.2,\"#de77ae\"],[0.3,\"#f1b6da\"],[0.4,\"#fde0ef\"],[0.5,\"#f7f7f7\"],[0.6,\"#e6f5d0\"],[0.7,\"#b8e186\"],[0.8,\"#7fbc41\"],[0.9,\"#4d9221\"],[1,\"#276419\"]],\"sequential\":[[0.0,\"#0d0887\"],[0.1111111111111111,\"#46039f\"],[0.2222222222222222,\"#7201a8\"],[0.3333333333333333,\"#9c179e\"],[0.4444444444444444,\"#bd3786\"],[0.5555555555555556,\"#d8576b\"],[0.6666666666666666,\"#ed7953\"],[0.7777777777777778,\"#fb9f3a\"],[0.8888888888888888,\"#fdca26\"],[1.0,\"#f0f921\"]],\"sequentialminus\":[[0.0,\"#0d0887\"],[0.1111111111111111,\"#46039f\"],[0.2222222222222222,\"#7201a8\"],[0.3333333333333333,\"#9c179e\"],[0.4444444444444444,\"#bd3786\"],[0.5555555555555556,\"#d8576b\"],[0.6666666666666666,\"#ed7953\"],[0.7777777777777778,\"#fb9f3a\"],[0.8888888888888888,\"#fdca26\"],[1.0,\"#f0f921\"]]},\"colorway\":[\"#636efa\",\"#EF553B\",\"#00cc96\",\"#ab63fa\",\"#FFA15A\",\"#19d3f3\",\"#FF6692\",\"#B6E880\",\"#FF97FF\",\"#FECB52\"],\"font\":{\"color\":\"#2a3f5f\"},\"geo\":{\"bgcolor\":\"white\",\"lakecolor\":\"white\",\"landcolor\":\"white\",\"showlakes\":true,\"showland\":true,\"subunitcolor\":\"#C8D4E3\"},\"hoverlabel\":{\"align\":\"left\"},\"hovermode\":\"closest\",\"mapbox\":{\"style\":\"light\"},\"paper_bgcolor\":\"white\",\"plot_bgcolor\":\"white\",\"polar\":{\"angularaxis\":{\"gridcolor\":\"#EBF0F8\",\"linecolor\":\"#EBF0F8\",\"ticks\":\"\"},\"bgcolor\":\"white\",\"radialaxis\":{\"gridcolor\":\"#EBF0F8\",\"linecolor\":\"#EBF0F8\",\"ticks\":\"\"}},\"scene\":{\"xaxis\":{\"backgroundcolor\":\"white\",\"gridcolor\":\"#DFE8F3\",\"gridwidth\":2,\"linecolor\":\"#EBF0F8\",\"showbackground\":true,\"ticks\":\"\",\"zerolinecolor\":\"#EBF0F8\"},\"yaxis\":{\"backgroundcolor\":\"white\",\"gridcolor\":\"#DFE8F3\",\"gridwidth\":2,\"linecolor\":\"#EBF0F8\",\"showbackground\":true,\"ticks\":\"\",\"zerolinecolor\":\"#EBF0F8\"},\"zaxis\":{\"backgroundcolor\":\"white\",\"gridcolor\":\"#DFE8F3\",\"gridwidth\":2,\"linecolor\":\"#EBF0F8\",\"showbackground\":true,\"ticks\":\"\",\"zerolinecolor\":\"#EBF0F8\"}},\"shapedefaults\":{\"line\":{\"color\":\"#2a3f5f\"}},\"ternary\":{\"aaxis\":{\"gridcolor\":\"#DFE8F3\",\"linecolor\":\"#A2B1C6\",\"ticks\":\"\"},\"baxis\":{\"gridcolor\":\"#DFE8F3\",\"linecolor\":\"#A2B1C6\",\"ticks\":\"\"},\"bgcolor\":\"white\",\"caxis\":{\"gridcolor\":\"#DFE8F3\",\"linecolor\":\"#A2B1C6\",\"ticks\":\"\"}},\"title\":{\"x\":0.05},\"xaxis\":{\"automargin\":true,\"gridcolor\":\"#EBF0F8\",\"linecolor\":\"#EBF0F8\",\"ticks\":\"\",\"title\":{\"standoff\":15},\"zerolinecolor\":\"#EBF0F8\",\"zerolinewidth\":2},\"yaxis\":{\"automargin\":true,\"gridcolor\":\"#EBF0F8\",\"linecolor\":\"#EBF0F8\",\"ticks\":\"\",\"title\":{\"standoff\":15},\"zerolinecolor\":\"#EBF0F8\",\"zerolinewidth\":2}}},\"title\":{\"text\":\"Pie chart of arabic dialects\"}},                        {\"responsive\": true}                    ).then(function(){\n",
       "                            \n",
       "var gd = document.getElementById('894c7cba-049f-43ab-ae68-b5abab40d1a8');\n",
       "var x = new MutationObserver(function (mutations, observer) {{\n",
       "        var display = window.getComputedStyle(gd).display;\n",
       "        if (!display || display === 'none') {{\n",
       "            console.log([gd, 'removed!']);\n",
       "            Plotly.purge(gd);\n",
       "            observer.disconnect();\n",
       "        }}\n",
       "}});\n",
       "\n",
       "// Listen for the removal of the full notebook cells\n",
       "var notebookContainer = gd.closest('#notebook-container');\n",
       "if (notebookContainer) {{\n",
       "    x.observe(notebookContainer, {childList: true});\n",
       "}}\n",
       "\n",
       "// Listen for the clearing of the current output cell\n",
       "var outputEl = gd.closest('.output');\n",
       "if (outputEl) {{\n",
       "    x.observe(outputEl, {childList: true});\n",
       "}}\n",
       "\n",
       "                        })                };                });            </script>        </div>"
      ]
     },
     "metadata": {},
     "output_type": "display_data"
    }
   ],
   "source": [
    "import plotly.express as px\n",
    "import plotly.graph_objects as go\n",
    "import plotly.figure_factory as ff\n",
    "from plotly.subplots import make_subplots\n",
    "\n",
    "\n",
    "values = df.dialect_in_arabic.value_counts();\n",
    "labels = values.index\n",
    "\n",
    "fig = go.Figure(\n",
    "    [\n",
    "        go.Pie(\n",
    "            labels = labels,\n",
    "            values = values\n",
    "        )\n",
    "    ]\n",
    ")\n",
    "fig.update_layout(title_text=\"Pie chart of arabic dialects\", template=\"plotly_white\")\n",
    "fig.data[0].marker.colors = [px.colors.qualitative.Plotly[2:]]\n",
    "fig.data[0].textfont.color = \"black\"\n",
    "fig.data[0].textposition = \"inside\"\n",
    "fig.show()"
   ]
  },
  {
   "cell_type": "markdown",
   "id": "77810c1a",
   "metadata": {
    "papermill": {
     "duration": 0.065789,
     "end_time": "2022-03-13T17:36:32.349488",
     "exception": false,
     "start_time": "2022-03-13T17:36:32.283699",
     "status": "completed"
    },
    "tags": []
   },
   "source": [
    "Here to visualize top tokens for each dialect we use 'CountVectorizer'.\n",
    "\n",
    "'CountVectorizer' is a function to convert a collection of text documents to a matrix of token counts."
   ]
  },
  {
   "cell_type": "code",
   "execution_count": 10,
   "id": "4a52394c",
   "metadata": {
    "execution": {
     "iopub.execute_input": "2022-03-13T17:36:32.493795Z",
     "iopub.status.busy": "2022-03-13T17:36:32.492902Z",
     "iopub.status.idle": "2022-03-13T17:36:32.633065Z",
     "shell.execute_reply": "2022-03-13T17:36:32.633622Z",
     "shell.execute_reply.started": "2022-03-13T17:26:09.682090Z"
    },
    "papermill": {
     "duration": 0.217917,
     "end_time": "2022-03-13T17:36:32.633829",
     "exception": false,
     "start_time": "2022-03-13T17:36:32.415912",
     "status": "completed"
    },
    "tags": []
   },
   "outputs": [],
   "source": [
    "from sklearn.feature_extraction.text import CountVectorizer\n",
    "\n",
    "def get_top_tweet_bigrams(df, column_name, dialect, n=None):\n",
    "    # select all text for selected dialect\n",
    "    txt = df[df['dialect']==dialect][column_name].str.lower()\n",
    "    # create a matrix of token counts\n",
    "    vec = CountVectorizer(ngram_range=(2, 2)).fit(txt)\n",
    "    # bag of words  \n",
    "    bag_of_words = vec.transform(txt)\n",
    "    # sum bag of words \n",
    "    sum_words = bag_of_words.sum(axis=0) \n",
    "    # frequency of each word in selected texts\n",
    "    words_freq = [(word, sum_words[0, idx]) for word, idx in vec.vocabulary_.items()]\n",
    "    words_freq =sorted(words_freq, key = lambda x: x[1], reverse=True)\n",
    "    # top n words repeates in selected texts \n",
    "    top = words_freq[:n]\n",
    "    #print(top)\n",
    "    x, y = map( list, zip(*top) )\n",
    "    nn = np.arange(len(x))\n",
    "    # reshape arabic words\n",
    "    x = [ get_display( arabic_reshaper.reshape(i)) for i in x]\n",
    "    \n",
    "    plt.figure(figsize=(10,8))\n",
    "    plt.barh(x, y, align='center', alpha=0.2)\n",
    "    plt.plot(y, nn, '-o', markersize=5, alpha=0.8)\n",
    "    plt.yticks(nn, x);\n",
    "    plt.xlabel('Word Number');\n",
    "    plt.title(f'Top {n} words in {dialect} tweets')"
   ]
  },
  {
   "cell_type": "code",
   "execution_count": 11,
   "id": "0a259046",
   "metadata": {
    "execution": {
     "iopub.execute_input": "2022-03-13T17:36:32.848552Z",
     "iopub.status.busy": "2022-03-13T17:36:32.847845Z",
     "iopub.status.idle": "2022-03-13T17:36:43.112251Z",
     "shell.execute_reply": "2022-03-13T17:36:43.112756Z",
     "shell.execute_reply.started": "2022-03-13T17:26:09.836097Z"
    },
    "papermill": {
     "duration": 10.411871,
     "end_time": "2022-03-13T17:36:43.112924",
     "exception": false,
     "start_time": "2022-03-13T17:36:32.701053",
     "status": "completed"
    },
    "tags": []
   },
   "outputs": [
    {
     "data": {
      "image/png": "[encoded data removed]",
      "text/plain": [
       "<Figure size 720x576 with 1 Axes>"
      ]
     },
     "metadata": {
      "needs_background": "light"
     },
     "output_type": "display_data"
    },
    {
     "data": {
      "image/png": "[encoded data removed]",
      "text/plain": [
       "<Figure size 720x576 with 1 Axes>"
      ]
     },
     "metadata": {
      "needs_background": "light"
     },
     "output_type": "display_data"
    }
   ],
   "source": [
    "get_top_tweet_bigrams(df, 'tweets', dialect='EG', n=10)\n",
    "get_top_tweet_bigrams(df, 'tweets', dialect='TN', n=10)\n",
    "#for dialect in df.dialect.unique():\n",
    "#    get_top_tweet_bigrams(df, 'tweets', dialect=dialect, n=10)"
   ]
  },
  {
   "cell_type": "markdown",
   "id": "372df4c7",
   "metadata": {
    "papermill": {
     "duration": 0.068662,
     "end_time": "2022-03-13T17:36:43.251478",
     "exception": false,
     "start_time": "2022-03-13T17:36:43.182816",
     "status": "completed"
    },
    "tags": []
   },
   "source": [
    "###### "
   ]
  },
  {
   "cell_type": "markdown",
   "id": "be30c26c",
   "metadata": {
    "papermill": {
     "duration": 0.068886,
     "end_time": "2022-03-13T17:36:43.389738",
     "exception": false,
     "start_time": "2022-03-13T17:36:43.320852",
     "status": "completed"
    },
    "tags": []
   },
   "source": [
    "### `Clean Text`\n",
    "Next step to try several methods **one at a time** to clean our tweets like:-\n",
    "\n",
    "        * Select arabic characters only from text\n",
    "        * Remove username \"@handle\" from text\n",
    "        * Remove URL from text\n",
    "        * Remove punctuation, emoji and smileys from text\n",
    "        * Remove \\n, \\t ,,, etc from text\n",
    "        * Remove Diacritization from text\n",
    "        * Remove Arabic Stop Words from text"
   ]
  },
  {
   "cell_type": "markdown",
   "id": "8421b967",
   "metadata": {
    "papermill": {
     "duration": 0.068662,
     "end_time": "2022-03-13T17:36:43.527197",
     "exception": false,
     "start_time": "2022-03-13T17:36:43.458535",
     "status": "completed"
    },
    "tags": []
   },
   "source": [
    "#### `Select arabic characters only from text`"
   ]
  },
  {
   "cell_type": "code",
   "execution_count": 12,
   "id": "308eeddf",
   "metadata": {
    "execution": {
     "iopub.execute_input": "2022-03-13T17:36:43.668283Z",
     "iopub.status.busy": "2022-03-13T17:36:43.667649Z",
     "iopub.status.idle": "2022-03-13T17:36:43.672526Z",
     "shell.execute_reply": "2022-03-13T17:36:43.673053Z",
     "shell.execute_reply.started": "2022-03-13T17:26:20.194572Z"
    },
    "papermill": {
     "duration": 0.077129,
     "end_time": "2022-03-13T17:36:43.673210",
     "exception": false,
     "start_time": "2022-03-13T17:36:43.596081",
     "status": "completed"
    },
    "tags": []
   },
   "outputs": [
    {
     "data": {
      "text/plain": [
       "'@zk2rr @Khaledabowesal بالله ابو وصال بطريقك اعطي فارس ضحكة او امدحه عشان يفرح انه عزز لك وكذا'"
      ]
     },
     "execution_count": 12,
     "metadata": {},
     "output_type": "execute_result"
    }
   ],
   "source": [
    "ar_pattern = r'[\\u0600-\\u06FF]+'\n",
    "test_text = df.tweets.iloc[254]\n",
    "test_text"
   ]
  },
  {
   "cell_type": "code",
   "execution_count": 13,
   "id": "6ad2f604",
   "metadata": {
    "execution": {
     "iopub.execute_input": "2022-03-13T17:36:43.815946Z",
     "iopub.status.busy": "2022-03-13T17:36:43.815293Z",
     "iopub.status.idle": "2022-03-13T17:36:43.820349Z",
     "shell.execute_reply": "2022-03-13T17:36:43.820914Z",
     "shell.execute_reply.started": "2022-03-13T17:26:20.202235Z"
    },
    "papermill": {
     "duration": 0.078101,
     "end_time": "2022-03-13T17:36:43.821087",
     "exception": false,
     "start_time": "2022-03-13T17:36:43.742986",
     "status": "completed"
    },
    "tags": []
   },
   "outputs": [
    {
     "data": {
      "text/plain": [
       "'بالله ابو وصال بطريقك اعطي فارس ضحكة او امدحه عشان يفرح انه عزز لك وكذا'"
      ]
     },
     "execution_count": 13,
     "metadata": {},
     "output_type": "execute_result"
    }
   ],
   "source": [
    "' '.join(re.findall(ar_pattern, test_text)) # return arabic tokens only"
   ]
  },
  {
   "cell_type": "code",
   "execution_count": 14,
   "id": "dbc7a9d8",
   "metadata": {
    "execution": {
     "iopub.execute_input": "2022-03-13T17:36:43.968350Z",
     "iopub.status.busy": "2022-03-13T17:36:43.967680Z",
     "iopub.status.idle": "2022-03-13T17:36:43.970213Z",
     "shell.execute_reply": "2022-03-13T17:36:43.970776Z",
     "shell.execute_reply.started": "2022-03-13T17:26:20.216780Z"
    },
    "papermill": {
     "duration": 0.079597,
     "end_time": "2022-03-13T17:36:43.970953",
     "exception": false,
     "start_time": "2022-03-13T17:36:43.891356",
     "status": "completed"
    },
    "tags": []
   },
   "outputs": [
    {
     "data": {
      "text/plain": [
       "'@zk2rr @Khaledabowesal                              '"
      ]
     },
     "execution_count": 14,
     "metadata": {},
     "output_type": "execute_result"
    }
   ],
   "source": [
    "re.sub(ar_pattern, ' ', test_text) # return non arabic tokens"
   ]
  },
  {
   "cell_type": "markdown",
   "id": "14ead009",
   "metadata": {
    "papermill": {
     "duration": 0.071434,
     "end_time": "2022-03-13T17:36:44.115949",
     "exception": false,
     "start_time": "2022-03-13T17:36:44.044515",
     "status": "completed"
    },
    "tags": []
   },
   "source": [
    "#### `Remove username \"@handle\"`"
   ]
  },
  {
   "cell_type": "code",
   "execution_count": 15,
   "id": "3b36f5ae",
   "metadata": {
    "execution": {
     "iopub.execute_input": "2022-03-13T17:36:44.261285Z",
     "iopub.status.busy": "2022-03-13T17:36:44.260657Z",
     "iopub.status.idle": "2022-03-13T17:36:44.262842Z",
     "shell.execute_reply": "2022-03-13T17:36:44.263307Z",
     "shell.execute_reply.started": "2022-03-13T17:26:20.229288Z"
    },
    "papermill": {
     "duration": 0.077424,
     "end_time": "2022-03-13T17:36:44.263486",
     "exception": false,
     "start_time": "2022-03-13T17:36:44.186062",
     "status": "completed"
    },
    "tags": []
   },
   "outputs": [],
   "source": [
    "handle_pattern = r'(@.*?)[\\s]'"
   ]
  },
  {
   "cell_type": "code",
   "execution_count": 16,
   "id": "3913fa36",
   "metadata": {
    "execution": {
     "iopub.execute_input": "2022-03-13T17:36:44.413300Z",
     "iopub.status.busy": "2022-03-13T17:36:44.412597Z",
     "iopub.status.idle": "2022-03-13T17:36:44.417638Z",
     "shell.execute_reply": "2022-03-13T17:36:44.418182Z",
     "shell.execute_reply.started": "2022-03-13T17:26:20.241539Z"
    },
    "papermill": {
     "duration": 0.082634,
     "end_time": "2022-03-13T17:36:44.418353",
     "exception": false,
     "start_time": "2022-03-13T17:36:44.335719",
     "status": "completed"
    },
    "tags": []
   },
   "outputs": [
    {
     "data": {
      "text/plain": [
       "'  بالله ابو وصال بطريقك اعطي فارس ضحكة او امدحه عشان يفرح انه عزز لك وكذا'"
      ]
     },
     "execution_count": 16,
     "metadata": {},
     "output_type": "execute_result"
    }
   ],
   "source": [
    "re.sub(handle_pattern, ' ', test_text) # return text without @handle"
   ]
  },
  {
   "cell_type": "markdown",
   "id": "9068c79a",
   "metadata": {
    "papermill": {
     "duration": 0.071116,
     "end_time": "2022-03-13T17:36:44.560867",
     "exception": false,
     "start_time": "2022-03-13T17:36:44.489751",
     "status": "completed"
    },
    "tags": []
   },
   "source": [
    "#### `Remove URL`"
   ]
  },
  {
   "cell_type": "code",
   "execution_count": 17,
   "id": "732545b5",
   "metadata": {
    "execution": {
     "iopub.execute_input": "2022-03-13T17:36:44.705823Z",
     "iopub.status.busy": "2022-03-13T17:36:44.705133Z",
     "iopub.status.idle": "2022-03-13T17:36:44.709996Z",
     "shell.execute_reply": "2022-03-13T17:36:44.710648Z",
     "shell.execute_reply.started": "2022-03-13T17:26:20.255137Z"
    },
    "papermill": {
     "duration": 0.079117,
     "end_time": "2022-03-13T17:36:44.710827",
     "exception": false,
     "start_time": "2022-03-13T17:36:44.631710",
     "status": "completed"
    },
    "tags": []
   },
   "outputs": [
    {
     "data": {
      "text/plain": [
       "'هاد النفسية @offgao بمشي بتويتر وبيحط للناس بلوك..\\nريتويت اذا عاملك انت التاني بلوك 😂😂😂 https://t.co/KdUgVWrFiP'"
      ]
     },
     "execution_count": 17,
     "metadata": {},
     "output_type": "execute_result"
    }
   ],
   "source": [
    "url_pattern = r'https?://\\S+|www\\.\\S+'\n",
    "test_text = df.tweets.iloc[1851]\n",
    "test_text"
   ]
  },
  {
   "cell_type": "code",
   "execution_count": 18,
   "id": "e87a8156",
   "metadata": {
    "execution": {
     "iopub.execute_input": "2022-03-13T17:36:44.859443Z",
     "iopub.status.busy": "2022-03-13T17:36:44.858789Z",
     "iopub.status.idle": "2022-03-13T17:36:44.863959Z",
     "shell.execute_reply": "2022-03-13T17:36:44.864535Z",
     "shell.execute_reply.started": "2022-03-13T17:26:20.270095Z"
    },
    "papermill": {
     "duration": 0.08084,
     "end_time": "2022-03-13T17:36:44.864712",
     "exception": false,
     "start_time": "2022-03-13T17:36:44.783872",
     "status": "completed"
    },
    "tags": []
   },
   "outputs": [
    {
     "data": {
      "text/plain": [
       "['https://t.co/KdUgVWrFiP']"
      ]
     },
     "execution_count": 18,
     "metadata": {},
     "output_type": "execute_result"
    }
   ],
   "source": [
    "re.findall(url_pattern, test_text) # return url only"
   ]
  },
  {
   "cell_type": "code",
   "execution_count": 19,
   "id": "77ebdc84",
   "metadata": {
    "execution": {
     "iopub.execute_input": "2022-03-13T17:36:45.013307Z",
     "iopub.status.busy": "2022-03-13T17:36:45.012704Z",
     "iopub.status.idle": "2022-03-13T17:36:45.017019Z",
     "shell.execute_reply": "2022-03-13T17:36:45.017755Z",
     "shell.execute_reply.started": "2022-03-13T17:26:20.286376Z"
    },
    "papermill": {
     "duration": 0.080633,
     "end_time": "2022-03-13T17:36:45.017952",
     "exception": false,
     "start_time": "2022-03-13T17:36:44.937319",
     "status": "completed"
    },
    "tags": []
   },
   "outputs": [
    {
     "data": {
      "text/plain": [
       "'هاد النفسية @offgao بمشي بتويتر وبيحط للناس بلوك..\\nريتويت اذا عاملك انت التاني بلوك 😂😂😂 '"
      ]
     },
     "execution_count": 19,
     "metadata": {},
     "output_type": "execute_result"
    }
   ],
   "source": [
    "re.compile(r'https?://\\S+|www\\.\\S+').sub(r'', test_text) # return text without url"
   ]
  },
  {
   "cell_type": "markdown",
   "id": "6eca5bbf",
   "metadata": {
    "papermill": {
     "duration": 0.071886,
     "end_time": "2022-03-13T17:36:45.163269",
     "exception": false,
     "start_time": "2022-03-13T17:36:45.091383",
     "status": "completed"
    },
    "tags": []
   },
   "source": [
    "#### `Remove punctuation, emoji and smileys`"
   ]
  },
  {
   "cell_type": "code",
   "execution_count": 20,
   "id": "b113d3d7",
   "metadata": {
    "execution": {
     "iopub.execute_input": "2022-03-13T17:36:45.310971Z",
     "iopub.status.busy": "2022-03-13T17:36:45.310259Z",
     "iopub.status.idle": "2022-03-13T17:36:45.315460Z",
     "shell.execute_reply": "2022-03-13T17:36:45.315953Z",
     "shell.execute_reply.started": "2022-03-13T17:26:20.302904Z"
    },
    "papermill": {
     "duration": 0.080512,
     "end_time": "2022-03-13T17:36:45.316123",
     "exception": false,
     "start_time": "2022-03-13T17:36:45.235611",
     "status": "completed"
    },
    "tags": []
   },
   "outputs": [
    {
     "data": {
      "text/plain": [
       "'يعني من الساعة 1 وانا بحاول انام ولهلا كل المحاولات فشلت 🤦🏼\\u200d♀️دقوم اتسحر  احسن اشي 😋\\nو مشواري ع الجامعة  الله يكون بالعون كيف بدي اصحصحله 😭🤦🏼\\u200d♀️'"
      ]
     },
     "execution_count": 20,
     "metadata": {},
     "output_type": "execute_result"
    }
   ],
   "source": [
    "url_pattern = r'[^\\w\\s]'\n",
    "test_text = df.tweets.iloc[0]\n",
    "test_text"
   ]
  },
  {
   "cell_type": "code",
   "execution_count": 21,
   "id": "676a859d",
   "metadata": {
    "execution": {
     "iopub.execute_input": "2022-03-13T17:36:45.464955Z",
     "iopub.status.busy": "2022-03-13T17:36:45.464232Z",
     "iopub.status.idle": "2022-03-13T17:36:45.468854Z",
     "shell.execute_reply": "2022-03-13T17:36:45.469450Z",
     "shell.execute_reply.started": "2022-03-13T17:26:20.314971Z"
    },
    "papermill": {
     "duration": 0.080638,
     "end_time": "2022-03-13T17:36:45.469620",
     "exception": false,
     "start_time": "2022-03-13T17:36:45.388982",
     "status": "completed"
    },
    "tags": []
   },
   "outputs": [
    {
     "data": {
      "text/plain": [
       "['🤦', '🏼', '\\u200d', '♀', '️', '😋', '😭', '🤦', '🏼', '\\u200d', '♀', '️']"
      ]
     },
     "execution_count": 21,
     "metadata": {},
     "output_type": "execute_result"
    }
   ],
   "source": [
    "re.findall(url_pattern, test_text)"
   ]
  },
  {
   "cell_type": "markdown",
   "id": "898f4764",
   "metadata": {
    "papermill": {
     "duration": 0.073592,
     "end_time": "2022-03-13T17:36:45.617637",
     "exception": false,
     "start_time": "2022-03-13T17:36:45.544045",
     "status": "completed"
    },
    "tags": []
   },
   "source": [
    "> this do the same as remove emojy. plus it removes punctuation and smily faces"
   ]
  },
  {
   "cell_type": "code",
   "execution_count": 22,
   "id": "9e7afedf",
   "metadata": {
    "execution": {
     "iopub.execute_input": "2022-03-13T17:36:45.769961Z",
     "iopub.status.busy": "2022-03-13T17:36:45.769272Z",
     "iopub.status.idle": "2022-03-13T17:36:45.771811Z",
     "shell.execute_reply": "2022-03-13T17:36:45.772275Z",
     "shell.execute_reply.started": "2022-03-13T17:26:20.329715Z"
    },
    "papermill": {
     "duration": 0.081143,
     "end_time": "2022-03-13T17:36:45.772450",
     "exception": false,
     "start_time": "2022-03-13T17:36:45.691307",
     "status": "completed"
    },
    "tags": []
   },
   "outputs": [
    {
     "data": {
      "text/plain": [
       "'يعني من الساعة 1 وانا بحاول انام ولهلا كل المحاولات فشلت دقوم اتسحر  احسن اشي \\nو مشواري ع الجامعة  الله يكون بالعون كيف بدي اصحصحله '"
      ]
     },
     "execution_count": 22,
     "metadata": {},
     "output_type": "execute_result"
    }
   ],
   "source": [
    "re.sub(url_pattern, '', test_text)"
   ]
  },
  {
   "cell_type": "markdown",
   "id": "15a4e149",
   "metadata": {
    "papermill": {
     "duration": 0.073513,
     "end_time": "2022-03-13T17:36:45.919575",
     "exception": false,
     "start_time": "2022-03-13T17:36:45.846062",
     "status": "completed"
    },
    "tags": []
   },
   "source": [
    "#### `Remove Escape Codes` \n",
    "> Escape Codes like \\n, \\t ,,, etc"
   ]
  },
  {
   "cell_type": "code",
   "execution_count": 23,
   "id": "0087dd94",
   "metadata": {
    "execution": {
     "iopub.execute_input": "2022-03-13T17:36:46.074715Z",
     "iopub.status.busy": "2022-03-13T17:36:46.074011Z",
     "iopub.status.idle": "2022-03-13T17:36:46.076538Z",
     "shell.execute_reply": "2022-03-13T17:36:46.077056Z",
     "shell.execute_reply.started": "2022-03-13T17:26:20.342547Z"
    },
    "papermill": {
     "duration": 0.083388,
     "end_time": "2022-03-13T17:36:46.077225",
     "exception": false,
     "start_time": "2022-03-13T17:36:45.993837",
     "status": "completed"
    },
    "tags": []
   },
   "outputs": [
    {
     "data": {
      "text/plain": [
       "'—\\n.\\n.\\n.\\n.\\nعلى كثرة الزلات اللّي جاتني مِنك ،\\nبس مَ عمري حبيت حد كثرك ❤️✨.'"
      ]
     },
     "execution_count": 23,
     "metadata": {},
     "output_type": "execute_result"
    }
   ],
   "source": [
    "url_pattern = r'\\s+'\n",
    "test_text = df.tweets.iloc[12437]\n",
    "test_text"
   ]
  },
  {
   "cell_type": "code",
   "execution_count": 24,
   "id": "91a87012",
   "metadata": {
    "execution": {
     "iopub.execute_input": "2022-03-13T17:36:46.230671Z",
     "iopub.status.busy": "2022-03-13T17:36:46.229944Z",
     "iopub.status.idle": "2022-03-13T17:36:46.235245Z",
     "shell.execute_reply": "2022-03-13T17:36:46.235803Z",
     "shell.execute_reply.started": "2022-03-13T17:26:20.359488Z"
    },
    "papermill": {
     "duration": 0.083547,
     "end_time": "2022-03-13T17:36:46.235967",
     "exception": false,
     "start_time": "2022-03-13T17:36:46.152420",
     "status": "completed"
    },
    "tags": []
   },
   "outputs": [
    {
     "data": {
      "text/plain": [
       "['\\n',\n",
       " '\\n',\n",
       " '\\n',\n",
       " '\\n',\n",
       " '\\n',\n",
       " ' ',\n",
       " ' ',\n",
       " ' ',\n",
       " ' ',\n",
       " ' ',\n",
       " ' ',\n",
       " '\\n',\n",
       " ' ',\n",
       " ' ',\n",
       " ' ',\n",
       " ' ',\n",
       " ' ',\n",
       " ' ']"
      ]
     },
     "execution_count": 24,
     "metadata": {},
     "output_type": "execute_result"
    }
   ],
   "source": [
    "re.findall(url_pattern,  test_text) # return escape codes found in text"
   ]
  },
  {
   "cell_type": "code",
   "execution_count": 25,
   "id": "9d688efb",
   "metadata": {
    "execution": {
     "iopub.execute_input": "2022-03-13T17:36:46.387891Z",
     "iopub.status.busy": "2022-03-13T17:36:46.387171Z",
     "iopub.status.idle": "2022-03-13T17:36:46.392511Z",
     "shell.execute_reply": "2022-03-13T17:36:46.393009Z",
     "shell.execute_reply.started": "2022-03-13T17:26:20.371383Z"
    },
    "papermill": {
     "duration": 0.082952,
     "end_time": "2022-03-13T17:36:46.393195",
     "exception": false,
     "start_time": "2022-03-13T17:36:46.310243",
     "status": "completed"
    },
    "tags": []
   },
   "outputs": [
    {
     "data": {
      "text/plain": [
       "'— . . . . على كثرة الزلات اللّي جاتني مِنك ، بس مَ عمري حبيت حد كثرك ❤️✨.'"
      ]
     },
     "execution_count": 25,
     "metadata": {},
     "output_type": "execute_result"
    }
   ],
   "source": [
    "re.sub(url_pattern, ' ', test_text).strip() # return text escape codes found in"
   ]
  },
  {
   "cell_type": "markdown",
   "id": "5070b38f",
   "metadata": {
    "papermill": {
     "duration": 0.074301,
     "end_time": "2022-03-13T17:36:46.543280",
     "exception": false,
     "start_time": "2022-03-13T17:36:46.468979",
     "status": "completed"
    },
    "tags": []
   },
   "source": [
    "#### `Remove Diacritization` (tashkeel)"
   ]
  },
  {
   "cell_type": "code",
   "execution_count": 26,
   "id": "cb5ca227",
   "metadata": {
    "execution": {
     "iopub.execute_input": "2022-03-13T17:36:46.696730Z",
     "iopub.status.busy": "2022-03-13T17:36:46.696042Z",
     "iopub.status.idle": "2022-03-13T17:36:46.701931Z",
     "shell.execute_reply": "2022-03-13T17:36:46.701429Z",
     "shell.execute_reply.started": "2022-03-13T17:26:20.384332Z"
    },
    "papermill": {
     "duration": 0.08374,
     "end_time": "2022-03-13T17:36:46.702070",
     "exception": false,
     "start_time": "2022-03-13T17:36:46.618330",
     "status": "completed"
    },
    "tags": []
   },
   "outputs": [
    {
     "data": {
      "text/plain": [
       "'—\\n.\\n.\\n.\\n.\\nعلى كثرة الزلات اللّي جاتني مِنك ،\\nبس مَ عمري حبيت حد كثرك ❤️✨.'"
      ]
     },
     "execution_count": 26,
     "metadata": {},
     "output_type": "execute_result"
    }
   ],
   "source": [
    "url_pattern = r'[\\u0617-\\u061A\\u064B-\\u0652]'\n",
    "test_text = df.tweets.iloc[12437]\n",
    "test_text"
   ]
  },
  {
   "cell_type": "code",
   "execution_count": 27,
   "id": "8d649f85",
   "metadata": {
    "execution": {
     "iopub.execute_input": "2022-03-13T17:36:46.860537Z",
     "iopub.status.busy": "2022-03-13T17:36:46.859844Z",
     "iopub.status.idle": "2022-03-13T17:36:46.862707Z",
     "shell.execute_reply": "2022-03-13T17:36:46.863241Z",
     "shell.execute_reply.started": "2022-03-13T17:26:20.397391Z"
    },
    "papermill": {
     "duration": 0.086136,
     "end_time": "2022-03-13T17:36:46.863420",
     "exception": false,
     "start_time": "2022-03-13T17:36:46.777284",
     "status": "completed"
    },
    "tags": []
   },
   "outputs": [
    {
     "data": {
      "text/plain": [
       "['ّ', 'ِ', 'َ']"
      ]
     },
     "execution_count": 27,
     "metadata": {},
     "output_type": "execute_result"
    }
   ],
   "source": [
    "re.findall(url_pattern,  test_text)"
   ]
  },
  {
   "cell_type": "code",
   "execution_count": 28,
   "id": "fe1d81b4",
   "metadata": {
    "execution": {
     "iopub.execute_input": "2022-03-13T17:36:47.021019Z",
     "iopub.status.busy": "2022-03-13T17:36:47.020348Z",
     "iopub.status.idle": "2022-03-13T17:36:47.023737Z",
     "shell.execute_reply": "2022-03-13T17:36:47.024231Z",
     "shell.execute_reply.started": "2022-03-13T17:26:20.412631Z"
    },
    "papermill": {
     "duration": 0.085555,
     "end_time": "2022-03-13T17:36:47.024416",
     "exception": false,
     "start_time": "2022-03-13T17:36:46.938861",
     "status": "completed"
    },
    "tags": []
   },
   "outputs": [
    {
     "data": {
      "text/plain": [
       "'—\\n.\\n.\\n.\\n.\\nعلى كثرة الزلات اللي جاتني منك ،\\nبس م عمري حبيت حد كثرك ❤️✨.'"
      ]
     },
     "execution_count": 28,
     "metadata": {},
     "output_type": "execute_result"
    }
   ],
   "source": [
    "re.sub(re.compile(url_pattern),\"\", test_text) # p_tashkeel"
   ]
  },
  {
   "cell_type": "markdown",
   "id": "bb41ed94",
   "metadata": {
    "papermill": {
     "duration": 0.075637,
     "end_time": "2022-03-13T17:36:47.177594",
     "exception": false,
     "start_time": "2022-03-13T17:36:47.101957",
     "status": "completed"
    },
    "tags": []
   },
   "source": [
    "#### `Remove Arabic Stop Words`"
   ]
  },
  {
   "cell_type": "code",
   "execution_count": 29,
   "id": "5ea7421b",
   "metadata": {
    "execution": {
     "iopub.execute_input": "2022-03-13T17:36:47.332315Z",
     "iopub.status.busy": "2022-03-13T17:36:47.331699Z",
     "iopub.status.idle": "2022-03-13T17:36:47.891436Z",
     "shell.execute_reply": "2022-03-13T17:36:47.890827Z",
     "shell.execute_reply.started": "2022-03-13T17:26:20.422864Z"
    },
    "papermill": {
     "duration": 0.637927,
     "end_time": "2022-03-13T17:36:47.891603",
     "exception": false,
     "start_time": "2022-03-13T17:36:47.253676",
     "status": "completed"
    },
    "tags": []
   },
   "outputs": [
    {
     "data": {
      "text/plain": [
       "['إذ', 'إذا', 'إذما', 'إذن', 'أف', 'أقل', 'أكثر', 'ألا', 'إلا', 'التي']"
      ]
     },
     "execution_count": 29,
     "metadata": {},
     "output_type": "execute_result"
    }
   ],
   "source": [
    "from nltk.corpus import stopwords\n",
    "nltk_stopwords = stopwords.words('arabic')\n",
    "nltk_stopwords[:10]"
   ]
  },
  {
   "cell_type": "code",
   "execution_count": 30,
   "id": "4cf8d106",
   "metadata": {
    "execution": {
     "iopub.execute_input": "2022-03-13T17:36:48.052220Z",
     "iopub.status.busy": "2022-03-13T17:36:48.051556Z",
     "iopub.status.idle": "2022-03-13T17:36:48.298092Z",
     "shell.execute_reply": "2022-03-13T17:36:48.297567Z",
     "shell.execute_reply.started": "2022-03-13T17:26:21.037450Z"
    },
    "papermill": {
     "duration": 0.327331,
     "end_time": "2022-03-13T17:36:48.298235",
     "exception": false,
     "start_time": "2022-03-13T17:36:47.970904",
     "status": "completed"
    },
    "tags": []
   },
   "outputs": [
    {
     "data": {
      "text/plain": [
       "['،', 'آض', 'آمينَ', 'آه', 'آهاً', 'آي', 'أ', 'أب', 'أجل', 'أجمع']"
      ]
     },
     "execution_count": 30,
     "metadata": {},
     "output_type": "execute_result"
    }
   ],
   "source": [
    "import urllib.request  # the lib that handles the url stuff\n",
    "target_url = \"https://raw.githubusercontent.com/stopwords-iso/stopwords-ar/master/stopwords-ar.txt\"\n",
    "\n",
    "stopwords_ar = []\n",
    "for line in urllib.request.urlopen(target_url):\n",
    "    #print(line.decode('utf-8'))\n",
    "    line = line.decode('utf-8').split(\"\\n\")[0]\n",
    "    stopwords_ar.append(line)\n",
    "    \n",
    "stopwords_ar[:10]"
   ]
  },
  {
   "cell_type": "code",
   "execution_count": 31,
   "id": "1d293f35",
   "metadata": {
    "execution": {
     "iopub.execute_input": "2022-03-13T17:36:48.459214Z",
     "iopub.status.busy": "2022-03-13T17:36:48.458495Z",
     "iopub.status.idle": "2022-03-13T17:36:48.465548Z",
     "shell.execute_reply": "2022-03-13T17:36:48.466079Z",
     "shell.execute_reply.started": "2022-03-13T17:26:21.330069Z"
    },
    "papermill": {
     "duration": 0.090685,
     "end_time": "2022-03-13T17:36:48.466252",
     "exception": false,
     "start_time": "2022-03-13T17:36:48.375567",
     "status": "completed"
    },
    "tags": []
   },
   "outputs": [
    {
     "name": "stdout",
     "output_type": "stream",
     "text": [
      "— . . . . كثرة الزلات اللّي جاتني مِنك بس مَ عمري حبيت حد كثرك ❤️✨.\n",
      "— . . . . كثرة الزلات اللّي جاتني مِنك ، مَ عمري حبيت حد كثرك ❤️✨.\n"
     ]
    }
   ],
   "source": [
    "test_text = df.tweets.iloc[12437]\n",
    "\n",
    "def remove_stop_words(text, stopwords):\n",
    "    words = [word for word in text.split() if word not in stopwords]\n",
    "    return \" \".join(words)    \n",
    "\n",
    "print(remove_stop_words(test_text, stopwords=stopwords_ar))\n",
    "print(remove_stop_words(test_text, stopwords=nltk_stopwords))"
   ]
  },
  {
   "cell_type": "markdown",
   "id": "0983d5ea",
   "metadata": {
    "papermill": {
     "duration": 0.076944,
     "end_time": "2022-03-13T17:36:48.621119",
     "exception": false,
     "start_time": "2022-03-13T17:36:48.544175",
     "status": "completed"
    },
    "tags": []
   },
   "source": [
    "#### Make a Preprocessing Pipleline from all above methods to try which of them make a positive differnce in score."
   ]
  },
  {
   "cell_type": "code",
   "execution_count": 32,
   "id": "7aae15d3",
   "metadata": {
    "execution": {
     "iopub.execute_input": "2022-03-13T17:36:48.780627Z",
     "iopub.status.busy": "2022-03-13T17:36:48.779904Z",
     "iopub.status.idle": "2022-03-13T17:37:42.040761Z",
     "shell.execute_reply": "2022-03-13T17:37:42.040167Z",
     "shell.execute_reply.started": "2022-03-13T17:26:21.339434Z"
    },
    "papermill": {
     "duration": 53.342172,
     "end_time": "2022-03-13T17:37:42.040931",
     "exception": false,
     "start_time": "2022-03-13T17:36:48.698759",
     "status": "completed"
    },
    "tags": []
   },
   "outputs": [],
   "source": [
    "def clean_text(text):\n",
    "    text = re.sub(r'(@.*?)[\\s]', ' ', text)\n",
    "    text = re.compile(r'https?://\\S+|www\\.\\S+').sub(r'', text)\n",
    "    text = re.sub(r'[^\\w\\s]', '', text)\n",
    "    text = re.sub(r'\\s+', ' ', text).strip()\n",
    "    text = re.sub(re.compile(r'[\\u0617-\\u061A\\u064B-\\u0652]'),\"\", text)\n",
    "    text = remove_stop_words(text, stopwords_ar)\n",
    "    text = text.strip()\n",
    "    return text\n",
    "\n",
    "df['clean_tweets'] = df.tweets.apply(lambda t: clean_text(t))"
   ]
  },
  {
   "cell_type": "markdown",
   "id": "9d9e30dd",
   "metadata": {
    "papermill": {
     "duration": 0.076952,
     "end_time": "2022-03-13T17:37:42.197187",
     "exception": false,
     "start_time": "2022-03-13T17:37:42.120235",
     "status": "completed"
    },
    "tags": []
   },
   "source": [
    "Let's visualize top 20 tokens after preprocessing pipline."
   ]
  },
  {
   "cell_type": "code",
   "execution_count": 33,
   "id": "96bf7cf8",
   "metadata": {
    "execution": {
     "iopub.execute_input": "2022-03-13T17:37:42.356059Z",
     "iopub.status.busy": "2022-03-13T17:37:42.355352Z",
     "iopub.status.idle": "2022-03-13T17:37:53.650706Z",
     "shell.execute_reply": "2022-03-13T17:37:53.651164Z",
     "shell.execute_reply.started": "2022-03-13T17:27:14.195427Z"
    },
    "papermill": {
     "duration": 11.37654,
     "end_time": "2022-03-13T17:37:53.651336",
     "exception": false,
     "start_time": "2022-03-13T17:37:42.274796",
     "status": "completed"
    },
    "tags": []
   },
   "outputs": [
    {
     "data": {
      "image/png": "[encoded data removed]",
      "text/plain": [
       "<Figure size 720x576 with 1 Axes>"
      ]
     },
     "metadata": {
      "needs_background": "light"
     },
     "output_type": "display_data"
    },
    {
     "data": {
      "image/png": "[encoded data removed]",
      "text/plain": [
       "<Figure size 720x576 with 1 Axes>"
      ]
     },
     "metadata": {
      "needs_background": "light"
     },
     "output_type": "display_data"
    }
   ],
   "source": [
    "get_top_tweet_bigrams(df, 'clean_tweets', dialect='EG', n=20)\n",
    "get_top_tweet_bigrams(df, 'clean_tweets', dialect='LY', n=20)\n",
    "#for dialect in df.dialect.unique():\n",
    "#    get_top_tweet_bigrams(df, 'clean_tweets', dialect=dialect, n=20)"
   ]
  },
  {
   "cell_type": "markdown",
   "id": "a1827fde",
   "metadata": {
    "papermill": {
     "duration": 0.082331,
     "end_time": "2022-03-13T17:37:53.815360",
     "exception": false,
     "start_time": "2022-03-13T17:37:53.733029",
     "status": "completed"
    },
    "tags": []
   },
   "source": [
    "LabelEncoder to encode target labels with value between 0 and n_classes-1 (0 to 17)"
   ]
  },
  {
   "cell_type": "code",
   "execution_count": 34,
   "id": "2272cf1c",
   "metadata": {
    "execution": {
     "iopub.execute_input": "2022-03-13T17:37:54.048352Z",
     "iopub.status.busy": "2022-03-13T17:37:54.037965Z",
     "iopub.status.idle": "2022-03-13T17:37:54.127337Z",
     "shell.execute_reply": "2022-03-13T17:37:54.126806Z",
     "shell.execute_reply.started": "2022-03-13T17:27:26.121280Z"
    },
    "papermill": {
     "duration": 0.229681,
     "end_time": "2022-03-13T17:37:54.127493",
     "exception": false,
     "start_time": "2022-03-13T17:37:53.897812",
     "status": "completed"
    },
    "tags": []
   },
   "outputs": [
    {
     "data": {
      "text/plain": [
       "array(['AE', 'BH', 'DZ', 'EG', 'IQ', 'JO', 'KW', 'LB', 'LY', 'MA', 'OM',\n",
       "       'PL', 'QA', 'SA', 'SD', 'SY', 'TN', 'YE'], dtype=object)"
      ]
     },
     "execution_count": 34,
     "metadata": {},
     "output_type": "execute_result"
    }
   ],
   "source": [
    "#from sklearn.preprocessing import OneHotEncoder \n",
    "from sklearn.preprocessing import LabelEncoder\n",
    "\n",
    "le = LabelEncoder()\n",
    "df['dialect_encode'] = le.fit_transform( df['dialect'] ).astype(np.int8)\n",
    "target_names = le.inverse_transform(np.arange(18))\n",
    "target_names"
   ]
  },
  {
   "cell_type": "markdown",
   "id": "6f891a5b",
   "metadata": {
    "papermill": {
     "duration": 0.082789,
     "end_time": "2022-03-13T17:37:54.293998",
     "exception": false,
     "start_time": "2022-03-13T17:37:54.211209",
     "status": "completed"
    },
    "tags": []
   },
   "source": [
    "![](https://miro.medium.com/max/1200/1*3-KkZ0hlRZxjMn7Z6uXDGg.png)"
   ]
  },
  {
   "cell_type": "markdown",
   "id": "bdd33b6e",
   "metadata": {
    "papermill": {
     "duration": 0.082149,
     "end_time": "2022-03-13T17:37:54.463319",
     "exception": false,
     "start_time": "2022-03-13T17:37:54.381170",
     "status": "completed"
    },
    "tags": []
   },
   "source": [
    "# Major regions for dialects\n",
    "After run several models we notice that Most of misclassifications happens for each dialect with dialects for share border countries. So we can break a classifier into three to five classifiers. each classifier for a group of share border countries.\n",
    "\n",
    "Here we can Combine dialects with dialects for share border countries. So let's take a small look here."
   ]
  },
  {
   "cell_type": "markdown",
   "id": "bbcdc87a",
   "metadata": {
    "papermill": {
     "duration": 0.08233,
     "end_time": "2022-03-13T17:37:54.628298",
     "exception": false,
     "start_time": "2022-03-13T17:37:54.545968",
     "status": "completed"
    },
    "tags": []
   },
   "source": [
    "Starting with define our new regions for dialects"
   ]
  },
  {
   "cell_type": "code",
   "execution_count": 35,
   "id": "f9885270",
   "metadata": {
    "execution": {
     "iopub.execute_input": "2022-03-13T17:37:54.800632Z",
     "iopub.status.busy": "2022-03-13T17:37:54.799896Z",
     "iopub.status.idle": "2022-03-13T17:37:54.803016Z",
     "shell.execute_reply": "2022-03-13T17:37:54.802488Z",
     "shell.execute_reply.started": "2022-03-13T17:27:26.269935Z"
    },
    "papermill": {
     "duration": 0.091525,
     "end_time": "2022-03-13T17:37:54.803158",
     "exception": false,
     "start_time": "2022-03-13T17:37:54.711633",
     "status": "completed"
    },
    "tags": []
   },
   "outputs": [],
   "source": [
    "new_regions = {\n",
    "    'ar_island': ['QA', 'SA', 'AE', 'KW', 'OM', 'YE','BH'],\n",
    "    'shaam': ['LB', 'SY', 'JO', 'PL', 'IQ'],\n",
    "    'africa_ne': ['EG', 'LY', 'SD'],\n",
    "    'africa_nw': ['TN', 'MA', 'DZ'],\n",
    "}\n",
    "new_regions_names = new_regions.keys()\n",
    "# prepare last dictionary for pandas map function to easly store in dataset\n",
    "new_regions = {val:key for key, lst in new_regions.items() for val in lst}\n",
    "#new_regions"
   ]
  },
  {
   "cell_type": "markdown",
   "id": "0b679216",
   "metadata": {
    "papermill": {
     "duration": 0.085348,
     "end_time": "2022-03-13T17:37:54.971297",
     "exception": false,
     "start_time": "2022-03-13T17:37:54.885949",
     "status": "completed"
    },
    "tags": []
   },
   "source": [
    "Create a function to combine deli"
   ]
  },
  {
   "cell_type": "code",
   "execution_count": 36,
   "id": "f72edce0",
   "metadata": {
    "execution": {
     "iopub.execute_input": "2022-03-13T17:37:55.140933Z",
     "iopub.status.busy": "2022-03-13T17:37:55.140279Z",
     "iopub.status.idle": "2022-03-13T17:37:55.234166Z",
     "shell.execute_reply": "2022-03-13T17:37:55.233532Z",
     "shell.execute_reply.started": "2022-03-13T17:27:26.277523Z"
    },
    "papermill": {
     "duration": 0.179557,
     "end_time": "2022-03-13T17:37:55.234308",
     "exception": false,
     "start_time": "2022-03-13T17:37:55.054751",
     "status": "completed"
    },
    "tags": []
   },
   "outputs": [
    {
     "data": {
      "text/html": [
       "<div>\n",
       "<style scoped>\n",
       "    .dataframe tbody tr th:only-of-type {\n",
       "        vertical-align: middle;\n",
       "    }\n",
       "\n",
       "    .dataframe tbody tr th {\n",
       "        vertical-align: top;\n",
       "    }\n",
       "\n",
       "    .dataframe thead th {\n",
       "        text-align: right;\n",
       "    }\n",
       "</style>\n",
       "<table border=\"1\" class=\"dataframe\">\n",
       "  <thead>\n",
       "    <tr style=\"text-align: right;\">\n",
       "      <th></th>\n",
       "      <th>dialect</th>\n",
       "      <th>tweets</th>\n",
       "      <th>dialect_in_arabic</th>\n",
       "      <th>clean_tweets</th>\n",
       "      <th>dialect_encode</th>\n",
       "      <th>region</th>\n",
       "    </tr>\n",
       "  </thead>\n",
       "  <tbody>\n",
       "    <tr>\n",
       "      <th>1000</th>\n",
       "      <td>PL</td>\n",
       "      <td>يعني من الساعة 1 وانا بحاول انام ولهلا كل المح...</td>\n",
       "      <td>لهجة فلسطينية</td>\n",
       "      <td>يعني الساعة 1 وانا بحاول انام ولهلا المحاولات ...</td>\n",
       "      <td>11</td>\n",
       "      <td>shaam</td>\n",
       "    </tr>\n",
       "    <tr>\n",
       "      <th>1001</th>\n",
       "      <td>AE</td>\n",
       "      <td>@nourrr_x هههههههه قلنالج من قبل.. من سنة وانت...</td>\n",
       "      <td>لهجة اماراتية</td>\n",
       "      <td>هههههههه قلنالج وانتوا تترددون هالهتشتاق وعشري...</td>\n",
       "      <td>0</td>\n",
       "      <td>ar_island</td>\n",
       "    </tr>\n",
       "    <tr>\n",
       "      <th>1002</th>\n",
       "      <td>PL</td>\n",
       "      <td>دلحق احجزلي طيارة اليوم شوب الجو 😂\\nوالله بينش...</td>\n",
       "      <td>لهجة فلسطينية</td>\n",
       "      <td>دلحق احجزلي طيارة شوب الجو والله بينشف ريقي بت...</td>\n",
       "      <td>11</td>\n",
       "      <td>shaam</td>\n",
       "    </tr>\n",
       "    <tr>\n",
       "      <th>1003</th>\n",
       "      <td>SA</td>\n",
       "      <td>@KHALID_ASHAERAH وشهوله المنح وصرف الفلوس ع ال...</td>\n",
       "      <td>لهجة سعودية</td>\n",
       "      <td>وشهوله المنح وصرف الفلوس ع الاجانب يعرف حجمة و...</td>\n",
       "      <td>13</td>\n",
       "      <td>ar_island</td>\n",
       "    </tr>\n",
       "    <tr>\n",
       "      <th>1004</th>\n",
       "      <td>SY</td>\n",
       "      <td>جاية ع بالي اكلة كبسة😍\\nاشتهيتكن معي😂😂\\n#رمضان...</td>\n",
       "      <td>لهجة سورية</td>\n",
       "      <td>جاية ع بالي اكلة كبسة اشتهيتكن معي رمضان</td>\n",
       "      <td>15</td>\n",
       "      <td>shaam</td>\n",
       "    </tr>\n",
       "  </tbody>\n",
       "</table>\n",
       "</div>"
      ],
      "text/plain": [
       "     dialect                                             tweets  \\\n",
       "1000      PL  يعني من الساعة 1 وانا بحاول انام ولهلا كل المح...   \n",
       "1001      AE  @nourrr_x هههههههه قلنالج من قبل.. من سنة وانت...   \n",
       "1002      PL  دلحق احجزلي طيارة اليوم شوب الجو 😂\\nوالله بينش...   \n",
       "1003      SA  @KHALID_ASHAERAH وشهوله المنح وصرف الفلوس ع ال...   \n",
       "1004      SY  جاية ع بالي اكلة كبسة😍\\nاشتهيتكن معي😂😂\\n#رمضان...   \n",
       "\n",
       "     dialect_in_arabic                                       clean_tweets  \\\n",
       "1000     لهجة فلسطينية  يعني الساعة 1 وانا بحاول انام ولهلا المحاولات ...   \n",
       "1001     لهجة اماراتية  هههههههه قلنالج وانتوا تترددون هالهتشتاق وعشري...   \n",
       "1002     لهجة فلسطينية  دلحق احجزلي طيارة شوب الجو والله بينشف ريقي بت...   \n",
       "1003       لهجة سعودية  وشهوله المنح وصرف الفلوس ع الاجانب يعرف حجمة و...   \n",
       "1004        لهجة سورية           جاية ع بالي اكلة كبسة اشتهيتكن معي رمضان   \n",
       "\n",
       "      dialect_encode     region  \n",
       "1000              11      shaam  \n",
       "1001               0  ar_island  \n",
       "1002              11      shaam  \n",
       "1003              13  ar_island  \n",
       "1004              15      shaam  "
      ]
     },
     "execution_count": 36,
     "metadata": {},
     "output_type": "execute_result"
    }
   ],
   "source": [
    "new_df = df.copy()\n",
    "new_df['region'] = new_df['dialect'].map(new_regions)\n",
    "new_df.head()"
   ]
  },
  {
   "cell_type": "code",
   "execution_count": 37,
   "id": "ad8ecfe5",
   "metadata": {
    "execution": {
     "iopub.execute_input": "2022-03-13T17:37:55.620982Z",
     "iopub.status.busy": "2022-03-13T17:37:55.620255Z",
     "iopub.status.idle": "2022-03-13T17:37:55.679972Z",
     "shell.execute_reply": "2022-03-13T17:37:55.679439Z",
     "shell.execute_reply.started": "2022-03-13T17:27:26.375339Z"
    },
    "papermill": {
     "duration": 0.363037,
     "end_time": "2022-03-13T17:37:55.680110",
     "exception": false,
     "start_time": "2022-03-13T17:37:55.317073",
     "status": "completed"
    },
    "tags": []
   },
   "outputs": [
    {
     "data": {
      "text/plain": [
       "dialect              0\n",
       "tweets               0\n",
       "dialect_in_arabic    0\n",
       "clean_tweets         0\n",
       "dialect_encode       0\n",
       "region               0\n",
       "dtype: int64"
      ]
     },
     "execution_count": 37,
     "metadata": {},
     "output_type": "execute_result"
    }
   ],
   "source": [
    "new_df.isnull().sum()"
   ]
  },
  {
   "cell_type": "code",
   "execution_count": 38,
   "id": "a334f1b8",
   "metadata": {
    "execution": {
     "iopub.execute_input": "2022-03-13T17:37:55.857421Z",
     "iopub.status.busy": "2022-03-13T17:37:55.856728Z",
     "iopub.status.idle": "2022-03-13T17:38:22.218779Z",
     "shell.execute_reply": "2022-03-13T17:38:22.219243Z",
     "shell.execute_reply.started": "2022-03-13T17:27:26.656468Z"
    },
    "papermill": {
     "duration": 26.454666,
     "end_time": "2022-03-13T17:38:22.219431",
     "exception": false,
     "start_time": "2022-03-13T17:37:55.764765",
     "status": "completed"
    },
    "tags": []
   },
   "outputs": [
    {
     "data": {
      "text/plain": [
       "0.8259956630150169"
      ]
     },
     "execution_count": 38,
     "metadata": {},
     "output_type": "execute_result"
    }
   ],
   "source": [
    "from sklearn.feature_extraction.text import TfidfVectorizer\n",
    "from sklearn.linear_model import LogisticRegression\n",
    "from sklearn.metrics import precision_score, classification_report, confusion_matrix\n",
    "from sklearn.multiclass import OneVsRestClassifier\n",
    "from sklearn.model_selection import train_test_split\n",
    "from sklearn.svm import LinearSVC\n",
    "\n",
    "X = TfidfVectorizer().fit_transform(new_df['tweets'])\n",
    "y = new_df.region\n",
    "X_train, X_val, y_train, y_val = train_test_split(X, y, test_size = 0.7, shuffle=True, random_state = 42)\n",
    "\n",
    "model = LinearSVC()\n",
    "model.fit(X_train, y_train)\n",
    "predicted = model.predict(X_val)\n",
    "precision_score(predicted, y_val, average='micro')"
   ]
  },
  {
   "cell_type": "code",
   "execution_count": 39,
   "id": "5c31f3b2",
   "metadata": {
    "execution": {
     "iopub.execute_input": "2022-03-13T17:38:22.744012Z",
     "iopub.status.busy": "2022-03-13T17:38:22.743307Z",
     "iopub.status.idle": "2022-03-13T17:38:25.048101Z",
     "shell.execute_reply": "2022-03-13T17:38:25.047502Z",
     "shell.execute_reply.started": "2022-03-13T17:27:55.021325Z"
    },
    "papermill": {
     "duration": 2.745,
     "end_time": "2022-03-13T17:38:25.048237",
     "exception": false,
     "start_time": "2022-03-13T17:38:22.303237",
     "status": "completed"
    },
    "tags": []
   },
   "outputs": [
    {
     "data": {
      "image/png": "[encoded data removed]",
      "text/plain": [
       "<Figure size 720x720 with 2 Axes>"
      ]
     },
     "metadata": {
      "needs_background": "light"
     },
     "output_type": "display_data"
    }
   ],
   "source": [
    "def ConfusionMatrix(cm, target_names):\n",
    "    #cm = confusion_matrix(y_val, predicted)\n",
    "    df_cm = pd.DataFrame(cm, target_names, target_names)\n",
    "\n",
    "    plt.figure(figsize = (10, 10))\n",
    "    sns.set(font_scale=1.4) # for label size\n",
    "    sns.heatmap(\n",
    "        df_cm,\n",
    "        fmt=\".1f\", annot=True, annot_kws={'size': 12}, cmap=cmap,\n",
    "        linewidths=3,\n",
    "    );\n",
    "    return None\n",
    "\n",
    "ConfusionMatrix(confusion_matrix(y_val, predicted), new_regions_names)"
   ]
  },
  {
   "cell_type": "markdown",
   "id": "9936c156",
   "metadata": {
    "papermill": {
     "duration": 0.087082,
     "end_time": "2022-03-13T17:38:25.223067",
     "exception": false,
     "start_time": "2022-03-13T17:38:25.135985",
     "status": "completed"
    },
    "tags": []
   },
   "source": [
    "> We can try to reallocate dialects in diffrent regions for better score."
   ]
  },
  {
   "cell_type": "markdown",
   "id": "e93ea246",
   "metadata": {
    "papermill": {
     "duration": 0.085875,
     "end_time": "2022-03-13T17:38:25.396569",
     "exception": false,
     "start_time": "2022-03-13T17:38:25.310694",
     "status": "completed"
    },
    "tags": []
   },
   "source": [
    "> ## `Furthermore we can break a classifier into three to five classifiers to classiffy dialects in the same regions.`"
   ]
  },
  {
   "cell_type": "markdown",
   "id": "1cddaed3",
   "metadata": {
    "papermill": {
     "duration": 0.086306,
     "end_time": "2022-03-13T17:38:25.569081",
     "exception": false,
     "start_time": "2022-03-13T17:38:25.482775",
     "status": "completed"
    },
    "tags": []
   },
   "source": [
    "![](https://miro.medium.com/max/1200/1*3-KkZ0hlRZxjMn7Z6uXDGg.png)"
   ]
  },
  {
   "cell_type": "code",
   "execution_count": 40,
   "id": "cc3136b8",
   "metadata": {
    "execution": {
     "iopub.execute_input": "2022-03-13T17:38:25.750357Z",
     "iopub.status.busy": "2022-03-13T17:38:25.749293Z",
     "iopub.status.idle": "2022-03-13T17:38:25.754228Z",
     "shell.execute_reply": "2022-03-13T17:38:25.752892Z",
     "shell.execute_reply.started": "2022-03-13T17:27:57.687821Z"
    },
    "papermill": {
     "duration": 0.098336,
     "end_time": "2022-03-13T17:38:25.754658",
     "exception": true,
     "start_time": "2022-03-13T17:38:25.656322",
     "status": "failed"
    },
    "tags": []
   },
   "outputs": [
    {
     "ename": "SyntaxError",
     "evalue": "'break' outside loop (964718167.py, line 5)",
     "output_type": "error",
     "traceback": [
      "\u001b[0;36m  File \u001b[0;32m\"/tmp/ipykernel_19/964718167.py\"\u001b[0;36m, line \u001b[0;32m5\u001b[0m\n\u001b[0;31mSyntaxError\u001b[0m\u001b[0;31m:\u001b[0m 'break' outside loop\n"
     ]
    }
   ],
   "source": [
    "print(\"let's stop here for now\")\n",
    "break;"
   ]
  },
  {
   "cell_type": "markdown",
   "id": "3ef489b7",
   "metadata": {
    "papermill": {
     "duration": null,
     "end_time": null,
     "exception": null,
     "start_time": null,
     "status": "pending"
    },
    "tags": []
   },
   "source": [
    "### t-SNE Corpus Visualization\n",
    "        One very popular method for visualizing document similarity is to use t-distributed stochastic neighbor embedding. By decomposing high-dimensional document vectors into 2 dimensions using probability distributions from both the original dimensionality and the decomposed dimensionality, t-SNE is able to effectively cluster similar documents. By decomposing to 2 or 3 dimensions, the documents can be visualized with a scatter plot."
   ]
  },
  {
   "cell_type": "code",
   "execution_count": null,
   "id": "1598236a",
   "metadata": {
    "execution": {
     "iopub.status.busy": "2022-03-13T17:27:57.696123Z",
     "iopub.status.idle": "2022-03-13T17:27:57.696781Z",
     "shell.execute_reply": "2022-03-13T17:27:57.696534Z",
     "shell.execute_reply.started": "2022-03-13T17:27:57.696507Z"
    },
    "papermill": {
     "duration": null,
     "end_time": null,
     "exception": null,
     "start_time": null,
     "status": "pending"
    },
    "tags": []
   },
   "outputs": [],
   "source": [
    "from sklearn.feature_extraction.text import TfidfVectorizer\n",
    "from sklearn.decomposition import PCA, TruncatedSVD\n",
    "from sklearn.manifold import TSNE\n",
    "from yellowbrick.text import TSNEVisualizer"
   ]
  },
  {
   "cell_type": "code",
   "execution_count": null,
   "id": "5bd81939",
   "metadata": {
    "execution": {
     "iopub.status.busy": "2022-03-13T17:27:57.697999Z",
     "iopub.status.idle": "2022-03-13T17:27:57.698367Z",
     "shell.execute_reply": "2022-03-13T17:27:57.698175Z",
     "shell.execute_reply.started": "2022-03-13T17:27:57.698152Z"
    },
    "papermill": {
     "duration": null,
     "end_time": null,
     "exception": null,
     "start_time": null,
     "status": "pending"
    },
    "tags": []
   },
   "outputs": [],
   "source": [
    "Vectorized_data = TfidfVectorizer().fit_transform(df['clean_tweets'])\n",
    "y = df.dialect\n",
    "\n",
    "# Create the visualizer and draw the vectors\n",
    "tsne = TSNEVisualizer()\n",
    "tsne.fit(Vectorized_data, y)\n",
    "tsne.show()"
   ]
  },
  {
   "cell_type": "markdown",
   "id": "8bfa5863",
   "metadata": {
    "papermill": {
     "duration": null,
     "end_time": null,
     "exception": null,
     "start_time": null,
     "status": "pending"
    },
    "tags": []
   },
   "source": [
    "Note that you can pass the class labels or document categories directly to the TSNEVisualizer as follows:"
   ]
  },
  {
   "cell_type": "code",
   "execution_count": null,
   "id": "82ccf09b",
   "metadata": {
    "execution": {
     "iopub.status.busy": "2022-03-13T17:27:57.700223Z",
     "iopub.status.idle": "2022-03-13T17:27:57.700971Z",
     "shell.execute_reply": "2022-03-13T17:27:57.700700Z",
     "shell.execute_reply.started": "2022-03-13T17:27:57.700666Z"
    },
    "papermill": {
     "duration": null,
     "end_time": null,
     "exception": null,
     "start_time": null,
     "status": "pending"
    },
    "tags": []
   },
   "outputs": [],
   "source": [
    "tsne = TSNEVisualizer(labels=labels)\n",
    "tsne.fit(X, y)\n",
    "tsne.show()"
   ]
  }
 ],
 "metadata": {
  "kernelspec": {
   "display_name": "Python 3",
   "language": "python",
   "name": "python3"
  },
  "language_info": {
   "codemirror_mode": {
    "name": "ipython",
    "version": 3
   },
   "file_extension": ".py",
   "mimetype": "text/x-python",
   "name": "python",
   "nbconvert_exporter": "python",
   "pygments_lexer": "ipython3",
   "version": "3.7.12"
  },
  "papermill": {
   "default_parameters": {},
   "duration": 161.892174,
   "end_time": "2022-03-13T17:38:29.136117",
   "environment_variables": {},
   "exception": true,
   "input_path": "__notebook__.ipynb",
   "output_path": "__notebook__.ipynb",
   "parameters": {},
   "start_time": "2022-03-13T17:35:47.243943",
   "version": "2.3.3"
  }
 },
 "nbformat": 4,
 "nbformat_minor": 5
}
